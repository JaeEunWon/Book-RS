{
 "cells": [
  {
   "cell_type": "code",
   "execution_count": 1,
   "id": "d234b60e",
   "metadata": {},
   "outputs": [
    {
     "data": {
      "application/javascript": [
       "IPython.notebook.set_autosave_interval(0)"
      ]
     },
     "metadata": {},
     "output_type": "display_data"
    },
    {
     "name": "stdout",
     "output_type": "stream",
     "text": [
      "Autosave disabled\n"
     ]
    }
   ],
   "source": [
    "%autosave 0"
   ]
  },
  {
   "cell_type": "code",
   "execution_count": 2,
   "id": "b81a2ea8",
   "metadata": {},
   "outputs": [],
   "source": [
    "import numpy as np\n",
    "import pandas as pd\n",
    "import matplotlib.pyplot as plt\n",
    "import seaborn as sns\n",
    "import warnings\n",
    "\n",
    "%matplotlib inline\n",
    "warnings.filterwarnings('ignore')\n",
    "plt.style.use('bmh')\n",
    "\n",
    "Books_df = pd.read_csv(\"C://Users//dnjsw//Desktop//프로젝트//Book//Books.csv\",encoding='cp949')\n",
    "Ratings_df = pd.read_csv('C://Users//dnjsw//Desktop//프로젝트//Book//Ratings.csv',encoding='cp949')\n",
    "Users_df = pd.read_csv(\"C://Users//dnjsw//Desktop//프로젝트//Book//Users.csv\", encoding='cp949')"
   ]
  },
  {
   "cell_type": "markdown",
   "id": "b7779ac2",
   "metadata": {},
   "source": [
    "## 각 데이터 컬럼확인\n",
    "### Books_df\n",
    "- ISBN : 도서 번호\n",
    "- Book-Title : 도서 제목\n",
    "- Book-Author : 도서 저자\n",
    "- Year-Of-Publication : 출판연도\n",
    "- Publisher : 출판사\n",
    "- Image-URL-S/M/L : 책 표면 이미지 URL\n",
    "\n",
    "### Ratings_df\n",
    "- User-ID : user 번호\n",
    "- ISBN : 도서 번호\n",
    "- Book-Rating : 평점\n",
    "\n",
    "### Users_df\n",
    "- User-ID : user 번호\n",
    "- Location : 거주지\n",
    "- Age : 나이"
   ]
  },
  {
   "cell_type": "code",
   "execution_count": 3,
   "id": "96a1421e",
   "metadata": {},
   "outputs": [
    {
     "data": {
      "text/html": [
       "<div>\n",
       "<style scoped>\n",
       "    .dataframe tbody tr th:only-of-type {\n",
       "        vertical-align: middle;\n",
       "    }\n",
       "\n",
       "    .dataframe tbody tr th {\n",
       "        vertical-align: top;\n",
       "    }\n",
       "\n",
       "    .dataframe thead th {\n",
       "        text-align: right;\n",
       "    }\n",
       "</style>\n",
       "<table border=\"1\" class=\"dataframe\">\n",
       "  <thead>\n",
       "    <tr style=\"text-align: right;\">\n",
       "      <th></th>\n",
       "      <th>User-ID</th>\n",
       "      <th>ISBN</th>\n",
       "      <th>Book-Rating</th>\n",
       "    </tr>\n",
       "  </thead>\n",
       "  <tbody>\n",
       "    <tr>\n",
       "      <th>0</th>\n",
       "      <td>276725</td>\n",
       "      <td>034545104X</td>\n",
       "      <td>0</td>\n",
       "    </tr>\n",
       "    <tr>\n",
       "      <th>1</th>\n",
       "      <td>276726</td>\n",
       "      <td>0155061224</td>\n",
       "      <td>5</td>\n",
       "    </tr>\n",
       "    <tr>\n",
       "      <th>2</th>\n",
       "      <td>276727</td>\n",
       "      <td>0446520802</td>\n",
       "      <td>0</td>\n",
       "    </tr>\n",
       "    <tr>\n",
       "      <th>3</th>\n",
       "      <td>276729</td>\n",
       "      <td>052165615X</td>\n",
       "      <td>3</td>\n",
       "    </tr>\n",
       "    <tr>\n",
       "      <th>4</th>\n",
       "      <td>276729</td>\n",
       "      <td>0521795028</td>\n",
       "      <td>6</td>\n",
       "    </tr>\n",
       "  </tbody>\n",
       "</table>\n",
       "</div>"
      ],
      "text/plain": [
       "   User-ID        ISBN  Book-Rating\n",
       "0   276725  034545104X            0\n",
       "1   276726  0155061224            5\n",
       "2   276727  0446520802            0\n",
       "3   276729  052165615X            3\n",
       "4   276729  0521795028            6"
      ]
     },
     "execution_count": 3,
     "metadata": {},
     "output_type": "execute_result"
    }
   ],
   "source": [
    "Ratings_df.head()"
   ]
  },
  {
   "cell_type": "code",
   "execution_count": 4,
   "id": "11f377af",
   "metadata": {
    "scrolled": true
   },
   "outputs": [
    {
     "name": "stdout",
     "output_type": "stream",
     "text": [
      "Books_df : (271360, 8)\n",
      "Ratings_df : (1149780, 3)\n",
      "Users_df : (278858, 3)\n",
      "\n"
     ]
    }
   ],
   "source": [
    "# 데이터셋 shape\n",
    "\n",
    "print(f'''Books_df : {Books_df.shape}\n",
    "Ratings_df : {Ratings_df.shape}\n",
    "Users_df : {Users_df.shape}\n",
    "''')"
   ]
  },
  {
   "cell_type": "code",
   "execution_count": 5,
   "id": "74d39f5a",
   "metadata": {},
   "outputs": [
    {
     "data": {
      "text/plain": [
       "ISBN                   0\n",
       "Book-Title             0\n",
       "Book-Author            1\n",
       "Year-Of-Publication    0\n",
       "Publisher              2\n",
       "Image-URL-S            0\n",
       "Image-URL-M            0\n",
       "Image-URL-L            3\n",
       "dtype: int64"
      ]
     },
     "execution_count": 5,
     "metadata": {},
     "output_type": "execute_result"
    }
   ],
   "source": [
    "Books_df.isna().sum()"
   ]
  },
  {
   "cell_type": "code",
   "execution_count": 6,
   "id": "32638699",
   "metadata": {},
   "outputs": [
    {
     "data": {
      "text/plain": [
       "User-ID        0\n",
       "ISBN           0\n",
       "Book-Rating    0\n",
       "dtype: int64"
      ]
     },
     "execution_count": 6,
     "metadata": {},
     "output_type": "execute_result"
    }
   ],
   "source": [
    "Ratings_df.isna().sum()"
   ]
  },
  {
   "cell_type": "code",
   "execution_count": 7,
   "id": "05aa5561",
   "metadata": {},
   "outputs": [
    {
     "data": {
      "text/plain": [
       "User-ID          0\n",
       "Location         0\n",
       "Age         110762\n",
       "dtype: int64"
      ]
     },
     "execution_count": 7,
     "metadata": {},
     "output_type": "execute_result"
    }
   ],
   "source": [
    "Users_df.isna().sum()"
   ]
  },
  {
   "cell_type": "code",
   "execution_count": 8,
   "id": "5ae98f4a",
   "metadata": {},
   "outputs": [
    {
     "data": {
      "text/plain": [
       "Text(0.5, 1.0, 'Age 이상치')"
      ]
     },
     "execution_count": 8,
     "metadata": {},
     "output_type": "execute_result"
    },
    {
     "data": {
      "image/png": "[encoded data removed]",
      "text/plain": [
       "<Figure size 1296x576 with 2 Axes>"
      ]
     },
     "metadata": {
      "needs_background": "light"
     },
     "output_type": "display_data"
    }
   ],
   "source": [
    "plt.rc('font', family='Malgun Gothic')\n",
    "\n",
    "f,ax=plt.subplots(1,2,figsize=(18,8))\n",
    "sns.boxplot(y='Book-Rating', data = Ratings_df, ax=ax[0])\n",
    "ax[0].set_title('Book-Rating 이상치')\n",
    "sns.boxplot(y='Age', data = Users_df, ax=ax[1])\n",
    "ax[1].set_title('Age 이상치')"
   ]
  },
  {
   "cell_type": "code",
   "execution_count": 9,
   "id": "975906dc",
   "metadata": {},
   "outputs": [
    {
     "data": {
      "text/html": [
       "<div>\n",
       "<style scoped>\n",
       "    .dataframe tbody tr th:only-of-type {\n",
       "        vertical-align: middle;\n",
       "    }\n",
       "\n",
       "    .dataframe tbody tr th {\n",
       "        vertical-align: top;\n",
       "    }\n",
       "\n",
       "    .dataframe thead th {\n",
       "        text-align: right;\n",
       "    }\n",
       "</style>\n",
       "<table border=\"1\" class=\"dataframe\">\n",
       "  <thead>\n",
       "    <tr style=\"text-align: right;\">\n",
       "      <th></th>\n",
       "      <th>Rate</th>\n",
       "      <th>Book-Rating</th>\n",
       "    </tr>\n",
       "  </thead>\n",
       "  <tbody>\n",
       "    <tr>\n",
       "      <th>0</th>\n",
       "      <td>0</td>\n",
       "      <td>716109</td>\n",
       "    </tr>\n",
       "    <tr>\n",
       "      <th>10</th>\n",
       "      <td>1</td>\n",
       "      <td>1770</td>\n",
       "    </tr>\n",
       "    <tr>\n",
       "      <th>9</th>\n",
       "      <td>2</td>\n",
       "      <td>2759</td>\n",
       "    </tr>\n",
       "    <tr>\n",
       "      <th>8</th>\n",
       "      <td>3</td>\n",
       "      <td>5996</td>\n",
       "    </tr>\n",
       "    <tr>\n",
       "      <th>7</th>\n",
       "      <td>4</td>\n",
       "      <td>8904</td>\n",
       "    </tr>\n",
       "    <tr>\n",
       "      <th>5</th>\n",
       "      <td>5</td>\n",
       "      <td>50974</td>\n",
       "    </tr>\n",
       "    <tr>\n",
       "      <th>6</th>\n",
       "      <td>6</td>\n",
       "      <td>36924</td>\n",
       "    </tr>\n",
       "    <tr>\n",
       "      <th>3</th>\n",
       "      <td>7</td>\n",
       "      <td>76457</td>\n",
       "    </tr>\n",
       "    <tr>\n",
       "      <th>1</th>\n",
       "      <td>8</td>\n",
       "      <td>103736</td>\n",
       "    </tr>\n",
       "    <tr>\n",
       "      <th>4</th>\n",
       "      <td>9</td>\n",
       "      <td>67541</td>\n",
       "    </tr>\n",
       "    <tr>\n",
       "      <th>2</th>\n",
       "      <td>10</td>\n",
       "      <td>78610</td>\n",
       "    </tr>\n",
       "  </tbody>\n",
       "</table>\n",
       "</div>"
      ],
      "text/plain": [
       "    Rate  Book-Rating\n",
       "0      0       716109\n",
       "10     1         1770\n",
       "9      2         2759\n",
       "8      3         5996\n",
       "7      4         8904\n",
       "5      5        50974\n",
       "6      6        36924\n",
       "3      7        76457\n",
       "1      8       103736\n",
       "4      9        67541\n",
       "2     10        78610"
      ]
     },
     "execution_count": 9,
     "metadata": {},
     "output_type": "execute_result"
    }
   ],
   "source": [
    "pd.DataFrame(Ratings_df['Book-Rating'].value_counts()).reset_index().sort_values('index').rename({'index':'Rate'},axis=1)"
   ]
  },
  {
   "cell_type": "code",
   "execution_count": 10,
   "id": "6599dc69",
   "metadata": {},
   "outputs": [
    {
     "name": "stdout",
     "output_type": "stream",
     "text": [
      "[nan, 0.0, 1.0, 2.0, 3.0, 4.0, 5.0, 6.0, 7.0, 8.0, 9.0, 10.0, 11.0, 12.0, 13.0, 14.0, 15.0, 16.0, 17.0, 18.0, 19.0, 20.0, 21.0, 22.0, 23.0, 24.0, 25.0, 26.0, 27.0, 28.0, 29.0, 30.0, 31.0, 32.0, 33.0, 34.0, 35.0, 36.0, 37.0, 38.0, 39.0, 40.0, 41.0, 42.0, 43.0, 44.0, 45.0, 46.0, 47.0, 48.0, 49.0, 50.0, 51.0, 52.0, 53.0, 54.0, 55.0, 56.0, 57.0, 58.0, 59.0, 60.0, 61.0, 62.0, 63.0, 64.0, 65.0, 66.0, 67.0, 68.0, 69.0, 70.0, 71.0, 72.0, 73.0, 74.0, 75.0, 76.0, 77.0, 78.0, 79.0, 80.0, 81.0, 82.0, 83.0, 84.0, 85.0, 86.0, 87.0, 88.0, 89.0, 90.0, 91.0, 92.0, 93.0, 94.0, 95.0, 96.0, 97.0, 98.0, 99.0, 100.0, 101.0, 102.0, 103.0, 104.0, 105.0, 106.0, 107.0, 108.0, 109.0, 110.0, 111.0, 113.0, 114.0, 115.0, 116.0, 118.0, 119.0, 123.0, 124.0, 127.0, 128.0, 132.0, 133.0, 136.0, 137.0, 138.0, 140.0, 141.0, 143.0, 146.0, 147.0, 148.0, 151.0, 152.0, 156.0, 157.0, 159.0, 162.0, 168.0, 172.0, 175.0, 183.0, 186.0, 189.0, 199.0, 200.0, 201.0, 204.0, 207.0, 208.0, 209.0, 210.0, 212.0, 219.0, 220.0, 223.0, 226.0, 228.0, 229.0, 230.0, 231.0, 237.0, 239.0, 244.0]\n"
     ]
    }
   ],
   "source": [
    "# Age의 값 확인\n",
    "print(sorted(Users_df.Age.unique()))"
   ]
  },
  {
   "cell_type": "code",
   "execution_count": 11,
   "id": "8f22d785",
   "metadata": {},
   "outputs": [
    {
     "data": {
      "text/plain": [
       "[0, 1, 2, 3, 4, 5, 6, 7, 8, 9, 10]"
      ]
     },
     "execution_count": 11,
     "metadata": {},
     "output_type": "execute_result"
    }
   ],
   "source": [
    "# 평점 최대 점수가 10점\n",
    "# 1~10점까지 부여가능\n",
    "# 0점은 책을 구매하고 평점을 입력하지 않았다는 것을 의미\n",
    "sorted(Ratings_df['Book-Rating'].unique())"
   ]
  },
  {
   "cell_type": "code",
   "execution_count": 12,
   "id": "4f4bc822",
   "metadata": {},
   "outputs": [
    {
     "name": "stdout",
     "output_type": "stream",
     "text": [
      "왜도 : 0.675 <- 오른쪽으로 긴 꼬리\n"
     ]
    },
    {
     "data": {
      "text/plain": [
       "<AxesSubplot:ylabel='Frequency'>"
      ]
     },
     "execution_count": 12,
     "metadata": {},
     "output_type": "execute_result"
    },
    {
     "data": {
      "image/png": "[encoded data removed]",
      "text/plain": [
       "<Figure size 432x288 with 1 Axes>"
      ]
     },
     "metadata": {
      "needs_background": "light"
     },
     "output_type": "display_data"
    }
   ],
   "source": [
    "# Age 컬럼 -> 이상치를 Nan값으로\n",
    "Users_df.loc[(Users_df.Age > 100)|(Users_df.Age <5), 'Age'] = np.nan\n",
    "print('왜도 :',round(Users_df.Age.skew(axis=0, skipna=True),3),'<- 오른쪽으로 긴 꼬리')\n",
    "Users_df.Age.plot.hist(bins=20, edgecolor='black', color='red')"
   ]
  },
  {
   "cell_type": "code",
   "execution_count": 13,
   "id": "bde4a01a",
   "metadata": {},
   "outputs": [
    {
     "data": {
      "text/plain": [
       "0.675"
      ]
     },
     "execution_count": 13,
     "metadata": {},
     "output_type": "execute_result"
    }
   ],
   "source": [
    "round(Users_df.Age.skew(axis=0, skipna=True),3)\n",
    "\n",
    "# 왜도가 양수 = 오른쪽으로 긴 꼬리"
   ]
  },
  {
   "cell_type": "code",
   "execution_count": 14,
   "id": "60ea3257",
   "metadata": {},
   "outputs": [
    {
     "data": {
      "text/html": [
       "<div>\n",
       "<style scoped>\n",
       "    .dataframe tbody tr th:only-of-type {\n",
       "        vertical-align: middle;\n",
       "    }\n",
       "\n",
       "    .dataframe tbody tr th {\n",
       "        vertical-align: top;\n",
       "    }\n",
       "\n",
       "    .dataframe thead th {\n",
       "        text-align: right;\n",
       "    }\n",
       "</style>\n",
       "<table border=\"1\" class=\"dataframe\">\n",
       "  <thead>\n",
       "    <tr style=\"text-align: right;\">\n",
       "      <th></th>\n",
       "      <th>ISBN</th>\n",
       "      <th>Book-Title</th>\n",
       "      <th>Book-Author</th>\n",
       "      <th>Year-Of-Publication</th>\n",
       "      <th>Publisher</th>\n",
       "      <th>Image-URL-S</th>\n",
       "      <th>Image-URL-M</th>\n",
       "      <th>Image-URL-L</th>\n",
       "    </tr>\n",
       "  </thead>\n",
       "  <tbody>\n",
       "    <tr>\n",
       "      <th>187689</th>\n",
       "      <td>9627982032</td>\n",
       "      <td>The Credit Suisse Guide to Managing Your Perso...</td>\n",
       "      <td>NaN</td>\n",
       "      <td>1995</td>\n",
       "      <td>Edinburgh Financial Publishing</td>\n",
       "      <td>http://images.amazon.com/images/P/9627982032.0...</td>\n",
       "      <td>http://images.amazon.com/images/P/9627982032.0...</td>\n",
       "      <td>http://images.amazon.com/images/P/9627982032.0...</td>\n",
       "    </tr>\n",
       "  </tbody>\n",
       "</table>\n",
       "</div>"
      ],
      "text/plain": [
       "              ISBN                                         Book-Title  \\\n",
       "187689  9627982032  The Credit Suisse Guide to Managing Your Perso...   \n",
       "\n",
       "       Book-Author Year-Of-Publication                       Publisher  \\\n",
       "187689         NaN                1995  Edinburgh Financial Publishing   \n",
       "\n",
       "                                              Image-URL-S  \\\n",
       "187689  http://images.amazon.com/images/P/9627982032.0...   \n",
       "\n",
       "                                              Image-URL-M  \\\n",
       "187689  http://images.amazon.com/images/P/9627982032.0...   \n",
       "\n",
       "                                              Image-URL-L  \n",
       "187689  http://images.amazon.com/images/P/9627982032.0...  "
      ]
     },
     "execution_count": 14,
     "metadata": {},
     "output_type": "execute_result"
    }
   ],
   "source": [
    "# Books_df 결측치 확인\n",
    "# 작가 컬럼 결측치\n",
    "Books_df[Books_df['Book-Author'].isnull()]"
   ]
  },
  {
   "cell_type": "code",
   "execution_count": 15,
   "id": "25c3afdc",
   "metadata": {},
   "outputs": [
    {
     "data": {
      "text/html": [
       "<div>\n",
       "<style scoped>\n",
       "    .dataframe tbody tr th:only-of-type {\n",
       "        vertical-align: middle;\n",
       "    }\n",
       "\n",
       "    .dataframe tbody tr th {\n",
       "        vertical-align: top;\n",
       "    }\n",
       "\n",
       "    .dataframe thead th {\n",
       "        text-align: right;\n",
       "    }\n",
       "</style>\n",
       "<table border=\"1\" class=\"dataframe\">\n",
       "  <thead>\n",
       "    <tr style=\"text-align: right;\">\n",
       "      <th></th>\n",
       "      <th>ISBN</th>\n",
       "      <th>Book-Title</th>\n",
       "      <th>Book-Author</th>\n",
       "      <th>Year-Of-Publication</th>\n",
       "      <th>Publisher</th>\n",
       "      <th>Image-URL-S</th>\n",
       "      <th>Image-URL-M</th>\n",
       "      <th>Image-URL-L</th>\n",
       "    </tr>\n",
       "  </thead>\n",
       "  <tbody>\n",
       "    <tr>\n",
       "      <th>128890</th>\n",
       "      <td>193169656X</td>\n",
       "      <td>Tyrant Moon</td>\n",
       "      <td>Elaine Corvidae</td>\n",
       "      <td>2002</td>\n",
       "      <td>NaN</td>\n",
       "      <td>http://images.amazon.com/images/P/193169656X.0...</td>\n",
       "      <td>http://images.amazon.com/images/P/193169656X.0...</td>\n",
       "      <td>http://images.amazon.com/images/P/193169656X.0...</td>\n",
       "    </tr>\n",
       "    <tr>\n",
       "      <th>129037</th>\n",
       "      <td>1931696993</td>\n",
       "      <td>Finders Keepers</td>\n",
       "      <td>Linnea Sinclair</td>\n",
       "      <td>2001</td>\n",
       "      <td>NaN</td>\n",
       "      <td>http://images.amazon.com/images/P/1931696993.0...</td>\n",
       "      <td>http://images.amazon.com/images/P/1931696993.0...</td>\n",
       "      <td>http://images.amazon.com/images/P/1931696993.0...</td>\n",
       "    </tr>\n",
       "  </tbody>\n",
       "</table>\n",
       "</div>"
      ],
      "text/plain": [
       "              ISBN       Book-Title      Book-Author Year-Of-Publication  \\\n",
       "128890  193169656X      Tyrant Moon  Elaine Corvidae                2002   \n",
       "129037  1931696993  Finders Keepers  Linnea Sinclair                2001   \n",
       "\n",
       "       Publisher                                        Image-URL-S  \\\n",
       "128890       NaN  http://images.amazon.com/images/P/193169656X.0...   \n",
       "129037       NaN  http://images.amazon.com/images/P/1931696993.0...   \n",
       "\n",
       "                                              Image-URL-M  \\\n",
       "128890  http://images.amazon.com/images/P/193169656X.0...   \n",
       "129037  http://images.amazon.com/images/P/1931696993.0...   \n",
       "\n",
       "                                              Image-URL-L  \n",
       "128890  http://images.amazon.com/images/P/193169656X.0...  \n",
       "129037  http://images.amazon.com/images/P/1931696993.0...  "
      ]
     },
     "execution_count": 15,
     "metadata": {},
     "output_type": "execute_result"
    }
   ],
   "source": [
    "# 출판사 컬럼 결측치 \n",
    "Books_df[Books_df.Publisher.isnull()]"
   ]
  },
  {
   "cell_type": "code",
   "execution_count": 16,
   "id": "f5bd3cbf",
   "metadata": {
    "scrolled": true
   },
   "outputs": [
    {
     "data": {
      "text/html": [
       "<div>\n",
       "<style scoped>\n",
       "    .dataframe tbody tr th:only-of-type {\n",
       "        vertical-align: middle;\n",
       "    }\n",
       "\n",
       "    .dataframe tbody tr th {\n",
       "        vertical-align: top;\n",
       "    }\n",
       "\n",
       "    .dataframe thead th {\n",
       "        text-align: right;\n",
       "    }\n",
       "</style>\n",
       "<table border=\"1\" class=\"dataframe\">\n",
       "  <thead>\n",
       "    <tr style=\"text-align: right;\">\n",
       "      <th></th>\n",
       "      <th>ISBN</th>\n",
       "      <th>Book-Title</th>\n",
       "      <th>Book-Author</th>\n",
       "      <th>Year-Of-Publication</th>\n",
       "      <th>Publisher</th>\n",
       "      <th>Image-URL-S</th>\n",
       "      <th>Image-URL-M</th>\n",
       "      <th>Image-URL-L</th>\n",
       "    </tr>\n",
       "  </thead>\n",
       "  <tbody>\n",
       "    <tr>\n",
       "      <th>209538</th>\n",
       "      <td>078946697X</td>\n",
       "      <td>DK Readers: Creating the X-Men, How It All Beg...</td>\n",
       "      <td>2000</td>\n",
       "      <td>DK Publishing Inc</td>\n",
       "      <td>http://images.amazon.com/images/P/078946697X.0...</td>\n",
       "      <td>http://images.amazon.com/images/P/078946697X.0...</td>\n",
       "      <td>http://images.amazon.com/images/P/078946697X.0...</td>\n",
       "      <td>NaN</td>\n",
       "    </tr>\n",
       "    <tr>\n",
       "      <th>220731</th>\n",
       "      <td>2070426769</td>\n",
       "      <td>Peuple du ciel, suivi de 'Les Bergers\\\";Jean-M...</td>\n",
       "      <td>2003</td>\n",
       "      <td>Gallimard</td>\n",
       "      <td>http://images.amazon.com/images/P/2070426769.0...</td>\n",
       "      <td>http://images.amazon.com/images/P/2070426769.0...</td>\n",
       "      <td>http://images.amazon.com/images/P/2070426769.0...</td>\n",
       "      <td>NaN</td>\n",
       "    </tr>\n",
       "    <tr>\n",
       "      <th>221678</th>\n",
       "      <td>789466953</td>\n",
       "      <td>DK Readers: Creating the X-Men, How Comic Book...</td>\n",
       "      <td>2000</td>\n",
       "      <td>DK Publishing Inc</td>\n",
       "      <td>http://images.amazon.com/images/P/0789466953.0...</td>\n",
       "      <td>http://images.amazon.com/images/P/0789466953.0...</td>\n",
       "      <td>http://images.amazon.com/images/P/0789466953.0...</td>\n",
       "      <td>NaN</td>\n",
       "    </tr>\n",
       "  </tbody>\n",
       "</table>\n",
       "</div>"
      ],
      "text/plain": [
       "              ISBN                                         Book-Title  \\\n",
       "209538  078946697X  DK Readers: Creating the X-Men, How It All Beg...   \n",
       "220731  2070426769  Peuple du ciel, suivi de 'Les Bergers\\\";Jean-M...   \n",
       "221678   789466953  DK Readers: Creating the X-Men, How Comic Book...   \n",
       "\n",
       "       Book-Author Year-Of-Publication  \\\n",
       "209538        2000   DK Publishing Inc   \n",
       "220731        2003           Gallimard   \n",
       "221678        2000   DK Publishing Inc   \n",
       "\n",
       "                                                Publisher  \\\n",
       "209538  http://images.amazon.com/images/P/078946697X.0...   \n",
       "220731  http://images.amazon.com/images/P/2070426769.0...   \n",
       "221678  http://images.amazon.com/images/P/0789466953.0...   \n",
       "\n",
       "                                              Image-URL-S  \\\n",
       "209538  http://images.amazon.com/images/P/078946697X.0...   \n",
       "220731  http://images.amazon.com/images/P/2070426769.0...   \n",
       "221678  http://images.amazon.com/images/P/0789466953.0...   \n",
       "\n",
       "                                              Image-URL-M Image-URL-L  \n",
       "209538  http://images.amazon.com/images/P/078946697X.0...         NaN  \n",
       "220731  http://images.amazon.com/images/P/2070426769.0...         NaN  \n",
       "221678  http://images.amazon.com/images/P/0789466953.0...         NaN  "
      ]
     },
     "execution_count": 16,
     "metadata": {},
     "output_type": "execute_result"
    }
   ],
   "source": [
    "# Image-URL-L 컬럼 결측치\n",
    "Books_df[Books_df['Image-URL-L'].isnull()]"
   ]
  },
  {
   "cell_type": "code",
   "execution_count": 17,
   "id": "162bb5c5",
   "metadata": {},
   "outputs": [],
   "source": [
    "# Books_df 결측치 처리(결측치가 많이 없어 직접 구글링 했음)\n",
    "# Book-Author의 결측치 1개는 찾을 수 없었고\n",
    "# Publisher에 대한 결측치는 'Mundania Press LLC', 'Bantam'\n",
    "# Image-URL-L에 대한 결측치는 해당 row의 Book-Author 값이 없어\n",
    "# 데이터가 밀려온 것으로 파악, Book-Author에 대한 결측치는\n",
    "# 'Michael Teitelbaum', 'Le Clezio', 'James Buckley'\n",
    "# Image-URL-L은 이미지에 대한 URL로 따로 결측값을 채워주지 않았음\n",
    "Books_df['Book-Author'] = Books_df['Book-Author'].fillna('other')\n",
    "Books_df.loc[Books_df.ISBN == '193169656X','Publisher'] = 'Mundania Press LLC'\n",
    "Books_df.loc[Books_df.ISBN == '1931696993', 'Publisher'] = 'Bantam'\n",
    "Books_df.loc[Books_df.ISBN=='078946697X','Book-Author']='Michael Teitelbaum'\n",
    "Books_df.loc[Books_df.ISBN=='078946697X','Year-Of-Publication']= 2000\n",
    "Books_df.loc[Books_df.ISBN=='078946697X','Publisher']='DK Publishing Inc'\n",
    "Books_df.loc[Books_df.ISBN=='2070426769','Book-Author']='Le Clezio'\n",
    "Books_df.loc[Books_df.ISBN=='2070426769','Year-Of-Publication']= 2003\n",
    "Books_df.loc[Books_df.ISBN=='2070426769','Publisher']='Gallimard'\n",
    "Books_df.loc[Books_df.ISBN=='0789466953','Book-Author']='James Buckley'\n",
    "Books_df.loc[Books_df.ISBN=='0789466953','Year-Of-Publication']= 2000\n",
    "Books_df.loc[Books_df.ISBN=='0789466953','Publisher']='DK Publishing Inc'"
   ]
  },
  {
   "cell_type": "code",
   "execution_count": 18,
   "id": "fe328a1d",
   "metadata": {},
   "outputs": [
    {
     "name": "stdout",
     "output_type": "stream",
     "text": [
      "['nyc, new york, usa' 'stockton, california, usa'\n",
      " 'moscow, yukon territory, russia' ... 'sergnano, lombardia, italy'\n",
      " 'stranraer, n/a, united kingdom' 'tacoma, washington, united kingdom']\n"
     ]
    },
    {
     "data": {
      "text/plain": [
       "57339"
      ]
     },
     "execution_count": 18,
     "metadata": {},
     "output_type": "execute_result"
    }
   ],
   "source": [
    "# 사용자의 지역 확인\n",
    "# 도시, 국가로 표현되어 있음\n",
    "print(Users_df.Location.unique())\n",
    "len(Users_df.Location.unique())"
   ]
  },
  {
   "cell_type": "code",
   "execution_count": 19,
   "id": "f3599a5b",
   "metadata": {},
   "outputs": [
    {
     "data": {
      "text/plain": [
       "0                         nyc, new york, usa\n",
       "1                  stockton, california, usa\n",
       "2            moscow, yukon territory, russia\n",
       "3                  porto, v.n.gaia, portugal\n",
       "4         farnborough, hants, united kingdom\n",
       "                         ...                \n",
       "278853                 portland, oregon, usa\n",
       "278854    tacoma, washington, united kingdom\n",
       "278855             brampton, ontario, canada\n",
       "278856             knoxville, tennessee, usa\n",
       "278857                  dublin, n/a, ireland\n",
       "Name: Location, Length: 278858, dtype: object"
      ]
     },
     "execution_count": 19,
     "metadata": {},
     "output_type": "execute_result"
    }
   ],
   "source": [
    "Users_df.Location"
   ]
  },
  {
   "cell_type": "code",
   "execution_count": 20,
   "id": "afba4132",
   "metadata": {},
   "outputs": [],
   "source": [
    "# 사용자의 지역을 Country로 묶어주려고 함\n",
    "# country 컬럼\n",
    "\n",
    "Users_df['Country'] = 'Korea'\n",
    "for i in Users_df:\n",
    "    Users_df['Country'] = Users_df.Location.str.extract(r'\\,+\\s?(\\w*\\s?\\w*)\\\"*$')\n",
    "# 메타문자(정규식 표현)\n",
    "# * -> 0개 이상 / ? -> 0개 또는 1개 / + -> 1개 이상\n",
    "# \\,+\\s? -> 쉼표 1개 이상과 0개 또는 1개의 공백을 찾는다.\n",
    "# (\\w*\\s?\\w*) 영문자 0개이상,공백 0개또는 1개, 영문자 0개 이상을 찾는다.\n",
    "# \"(큰따옴표)* 0개 이상을 찾는다."
   ]
  },
  {
   "cell_type": "code",
   "execution_count": 21,
   "id": "ce92597f",
   "metadata": {},
   "outputs": [
    {
     "name": "stdout",
     "output_type": "stream",
     "text": [
      "531\n"
     ]
    },
    {
     "data": {
      "text/plain": [
       "User-ID          0\n",
       "Location         0\n",
       "Age         112010\n",
       "Country        362\n",
       "dtype: int64"
      ]
     },
     "execution_count": 21,
     "metadata": {},
     "output_type": "execute_result"
    }
   ],
   "source": [
    "print(len(Users_df.Country.unique()))\n",
    "Users_df.isnull().sum()"
   ]
  },
  {
   "cell_type": "code",
   "execution_count": 22,
   "id": "b548800f",
   "metadata": {},
   "outputs": [
    {
     "data": {
      "text/html": [
       "<div>\n",
       "<style scoped>\n",
       "    .dataframe tbody tr th:only-of-type {\n",
       "        vertical-align: middle;\n",
       "    }\n",
       "\n",
       "    .dataframe tbody tr th {\n",
       "        vertical-align: top;\n",
       "    }\n",
       "\n",
       "    .dataframe thead th {\n",
       "        text-align: right;\n",
       "    }\n",
       "</style>\n",
       "<table border=\"1\" class=\"dataframe\">\n",
       "  <thead>\n",
       "    <tr style=\"text-align: right;\">\n",
       "      <th></th>\n",
       "      <th>Location</th>\n",
       "      <th>Country</th>\n",
       "    </tr>\n",
       "  </thead>\n",
       "  <tbody>\n",
       "    <tr>\n",
       "      <th>0</th>\n",
       "      <td>nyc, new york, usa</td>\n",
       "      <td>usa</td>\n",
       "    </tr>\n",
       "    <tr>\n",
       "      <th>1</th>\n",
       "      <td>stockton, california, usa</td>\n",
       "      <td>usa</td>\n",
       "    </tr>\n",
       "    <tr>\n",
       "      <th>2</th>\n",
       "      <td>moscow, yukon territory, russia</td>\n",
       "      <td>russia</td>\n",
       "    </tr>\n",
       "    <tr>\n",
       "      <th>3</th>\n",
       "      <td>porto, v.n.gaia, portugal</td>\n",
       "      <td>portugal</td>\n",
       "    </tr>\n",
       "    <tr>\n",
       "      <th>4</th>\n",
       "      <td>farnborough, hants, united kingdom</td>\n",
       "      <td>united kingdom</td>\n",
       "    </tr>\n",
       "    <tr>\n",
       "      <th>...</th>\n",
       "      <td>...</td>\n",
       "      <td>...</td>\n",
       "    </tr>\n",
       "    <tr>\n",
       "      <th>278853</th>\n",
       "      <td>portland, oregon, usa</td>\n",
       "      <td>usa</td>\n",
       "    </tr>\n",
       "    <tr>\n",
       "      <th>278854</th>\n",
       "      <td>tacoma, washington, united kingdom</td>\n",
       "      <td>united kingdom</td>\n",
       "    </tr>\n",
       "    <tr>\n",
       "      <th>278855</th>\n",
       "      <td>brampton, ontario, canada</td>\n",
       "      <td>canada</td>\n",
       "    </tr>\n",
       "    <tr>\n",
       "      <th>278856</th>\n",
       "      <td>knoxville, tennessee, usa</td>\n",
       "      <td>usa</td>\n",
       "    </tr>\n",
       "    <tr>\n",
       "      <th>278857</th>\n",
       "      <td>dublin, n/a, ireland</td>\n",
       "      <td>ireland</td>\n",
       "    </tr>\n",
       "  </tbody>\n",
       "</table>\n",
       "<p>278858 rows × 2 columns</p>\n",
       "</div>"
      ],
      "text/plain": [
       "                                  Location         Country\n",
       "0                       nyc, new york, usa             usa\n",
       "1                stockton, california, usa             usa\n",
       "2          moscow, yukon territory, russia          russia\n",
       "3                porto, v.n.gaia, portugal        portugal\n",
       "4       farnborough, hants, united kingdom  united kingdom\n",
       "...                                    ...             ...\n",
       "278853               portland, oregon, usa             usa\n",
       "278854  tacoma, washington, united kingdom  united kingdom\n",
       "278855           brampton, ontario, canada          canada\n",
       "278856           knoxville, tennessee, usa             usa\n",
       "278857                dublin, n/a, ireland         ireland\n",
       "\n",
       "[278858 rows x 2 columns]"
      ]
     },
     "execution_count": 22,
     "metadata": {},
     "output_type": "execute_result"
    }
   ],
   "source": [
    "Users_df[['Location','Country']]"
   ]
  },
  {
   "cell_type": "code",
   "execution_count": 23,
   "id": "3d0aff9a",
   "metadata": {},
   "outputs": [
    {
     "data": {
      "text/plain": [
       "array(['usa', 'russia', 'portugal', 'united kingdom', 'canada', 'spain',\n",
       "       'australia', 'brazil', '', 'germany', 'mexico', 'china', 'italy',\n",
       "       'distrito federal', 'france', 'netherlands', 'iraq', 'finland',\n",
       "       'new zealand', 'india', 'ghana', 'switzerland', 'slovenia', 'iran',\n",
       "       'peru', nan, 'vietnam', 'sri lanka', 'pakistan', 'denmark',\n",
       "       'belgium', 'malaysia', 'turkey', 'philippines', 'greece',\n",
       "       'colombia', 'norway', 'kuwait', 'chile', 'quit', 'lj', 'taiwan',\n",
       "       'espa챰a', 'sweden', 'argentina', 'nigeria', 'london', 'bulgaria',\n",
       "       'austria', 'romania', 'singapore', 'albania', 'egypt', 'tunisia',\n",
       "       'uzbekistan', 'qatar', 'syria', 'saudi arabia', 'indonesia',\n",
       "       'sudan', 'somewherein space', 'poland', 'thailand', 'ireland',\n",
       "       'venezuela', 'paraguay', 'mozambique', 'morocco', 'afghanistan',\n",
       "       'estonia', 'clackamas', 'lesotho', 'yugoslavia', 'slovakia',\n",
       "       'costa rica', 'basque country', 'ethiopia', 'croatia', 'israel',\n",
       "       'japan', 'iceland', 'the', 'south africa', 'cuba', 'calabria',\n",
       "       'alderney', 'puerto rico', 'hong kong', 'latvia', 'jersey',\n",
       "       'luxembourg', 'belarus', 'cape verde', 'lithuania', 'guyana',\n",
       "       'scotland', 'jordan', 'la argentina', 'angola', 'algeria',\n",
       "       'andorra', 'kyrgyzstan', 'panama', 'csa', 'ecuador', 'phils',\n",
       "       'kazakhstan', 'dominican republic', 'brunei', 'bangladesh',\n",
       "       'monterrey', 'bahrain', 'urugua', 'uruguay', 'honduras', 'georgia',\n",
       "       'dominica', 'malta', 'faroe islands', 'east africa',\n",
       "       'sierra leone', 'guatemala', 'mali', 'czech republic', 'space',\n",
       "       'south korea', 'rwanda', 'yemen', 'cyprus', 'the philippines',\n",
       "       '철챨쨔첬', 'la france', 'eritrea', 'bahamas', 'cameroon', 'nicaragua',\n",
       "       'zambia', 'bolivia', 'maroc', 'isreal', 'belize', 'namibia',\n",
       "       'macedonia', 'botswana', 'queenspark', 'monaco', 'samoa', 'brasil',\n",
       "       '19104', 'guernsey', 'euskal herria', 'bermuda', 'barbados',\n",
       "       'trinidad', 'england', 'armenia', 'hungary', 'deutschland',\n",
       "       'cayman islands', 'ukraine', 'minnehaha', 'azerbaijan', 'galiza',\n",
       "       'de', 'suriname', 'doodedoo', 'jamaica', 'caribbean sea',\n",
       "       'catalunya', 'kosovo', 'somalia', 'moldova', 'tanzania', 'burma',\n",
       "       'uk', 'turkei', 'ksa', 'tajikistan', 'nepal', 'valtesse',\n",
       "       'lebanon', 'maldives', 'nederlands', 'tdzimi', 'oman', 'lleida',\n",
       "       'antarctica', 'itlay', 'palau', 'belgique', 'deutsches reich',\n",
       "       'catalonia', 'micronesia', 'kenya', 'collin', 'zhengjiang',\n",
       "       'grenada', 'bhutan', 'baxter', 'evil empire', 'wales', 'mongolia',\n",
       "       'hennipen', 'equatorial geuinea', 'italia', 'rice', 'polska',\n",
       "       'missouri', 'goteborg', 'united states', 'senegal', 'bbbzzzzz',\n",
       "       'saint lucia', 'zimbabwe', 'cass', 'baltimore', 'hampden', 'ust',\n",
       "       'ama lurra', 'polk', 'hamilton', 'fiji', 'bernalillo', 'effingham',\n",
       "       'lake', 'catalunya spain', 'windham', 'laos', 'united stated',\n",
       "       'burkina faso', 'philippine', 'auckland', 'c', 'gabon', 'pasco',\n",
       "       'ferrara', 'morgan', 'milano', 'europe', 'slo', 'lkjlj',\n",
       "       'north korea', 'marrion', 'mauritius', 'benin', 'cnina',\n",
       "       'holy see', 'haiti', 'cn', 'holland', 'jackson', 'cherokee',\n",
       "       'lazio', 'dekalb', 'la belgique', 'maricopa', 'ua', 'alg챕rie',\n",
       "       'san marino', 'nrw', 'nyhamnsl채ge', 'aruba', 'richmond country',\n",
       "       'srilanka', 'el salvador', 'c척te d', 'saint loius', 'framingham',\n",
       "       'monroe', 'hornyonic', 'ouranos', 'san bernardino', 'nyc',\n",
       "       'united kindgonm', 'malawi', 'channel islands', 'espa찾짹a',\n",
       "       'solomon islands', 'washtenaw', 'libya', 'universe', 'az',\n",
       "       'suisse', 'uganda', 'macau', 'frome', 'brunei darussalam',\n",
       "       'netherlands antilles', 'niger', 'cape town', 'aroostook', 'chad',\n",
       "       'fifi', 'djibouti', 'america', 'prince william',\n",
       "       'bademn w체rtemberg', 'marshall islands', 'la suisse', 'gb',\n",
       "       'worcester', 'wood', 'rmi', 'hongkong', 'heaven', 'serbia',\n",
       "       'm챕xico', 'congo', 'osceola', 'van wert', '87510', 'lornsenland',\n",
       "       'saudia arabia', 'dublin', 'pr', 'none', 'liberia', 'carter',\n",
       "       'myanmar', 'rapides', 'american samoa', 'essex', 'aaa', 'can',\n",
       "       'sicilia', 'english', 'nowhere', 'alachua', 'china 철챨쨔첬',\n",
       "       'lombardia', 'cambodia', 'vanuatu', 'turkmenistan', 'm챕rida',\n",
       "       'hillsborough', 'my', 'san franicsco', '02458', 'the netherlands',\n",
       "       'us', 'travelling', 'togo', 'belgi', 'pinallas', 'id', 'k1c7b1',\n",
       "       'orense', 'rutherford', 'pa', 'bell', 'country', 'camden', 'dfg',\n",
       "       'chian', 'strongbadia', 'bfe', 'liaoning', 'united statea',\n",
       "       'italien', 'clinton', 'ventura county', 'bergued횪', 'basilicata',\n",
       "       'diy', 'ysa', 'input error', 'bladen', 'sardegna', 'thailoand',\n",
       "       'rosario', 'per찾쨘', 'aotearoa', 'burkinafasu', 'adsgfdr', 'henry',\n",
       "       'kz', 'unit', 'rosello', 'granville', 'england uk',\n",
       "       'petrolwar nation', 'guam', 'new london', 'harvatija', '23232',\n",
       "       'copenhagen', 'canda', 'prc', 'phippines', 'sardinia', 'u',\n",
       "       'oakland', 'lecce', 'u k', 'mo챌ambique', 'ventura', 'newzealand',\n",
       "       'europa', 'shelby', 'malaysian', 'fred', 'tonga', 'roma', 'indiai',\n",
       "       'cook', 'mordor', 'z', 'fontana', 'kiribati', 'australii',\n",
       "       'ukrain', 'onondaga nation', '_ brasil', 'united kindgdom',\n",
       "       'queensland', 'cananda', 'austbritania', 'united state', 'solano',\n",
       "       'unite states', 'vorce', 'pender', 'vicenza', 'xxxxxx', 'maracopa',\n",
       "       'palestine', 'il canada', 'phila', 'guinea', 'rsa', 'neverland',\n",
       "       'west yorkshire', 'smith', 'pueblo', 'northern ireland', 'pippo',\n",
       "       't체rkiye', 'california', 'uyo', 'spotsylvania', 'der', 'swaziland',\n",
       "       'livingston', 'ussurfing', 'phillipines', 'bosnia', 'cadd0',\n",
       "       'euskadi', 'canada eh', 'l', 'le canada', 'korea', 'nh', 'uae',\n",
       "       'yanhill', 'wonderful usa', 'burlington', 'uusa', 'madagascar',\n",
       "       'swazilandia', 'johnson', 'maine', '30064', 'buncombe', 'bucks',\n",
       "       'santa barbara', 'houston', 'slovak republik', 'fortaleza', 'in',\n",
       "       'pistlavakia', 'bavaria', 'palm beach', 'philippinies',\n",
       "       'north carolina', 'russian federation', 'courtenay', 'mauritania',\n",
       "       'lee', 'comoros', 'hidalgo', 'xinyu', 'orange co', 'texas',\n",
       "       'unknown', 'a', 'san mateo', 'davidson', 'saint luica', '85021',\n",
       "       'tobago', 'vatican city', 'ohio', 'whatcom', 'nz', 'madrid',\n",
       "       'toscana', 'butler', 'allen', 'autralia', 'fairyland', 'thing',\n",
       "       'ahrensburg', 'kern', 'cape may', 'the gambia', 'united sates',\n",
       "       'tyrtyrt', 'liushi', 'bih', 'fort bend', 'geermany', 'fulton',\n",
       "       'le madagascar', 'yakima', 'no more', 'dauphin', '01776', 'lane',\n",
       "       'x', 'china철챨쨔첬', 'galiza neghra', 'united staes', 'asturies',\n",
       "       'nl', 'germay', 'yunling', 'victoria', 'bkk', 'la svizzera',\n",
       "       'hernando'], dtype=object)"
      ]
     },
     "execution_count": 23,
     "metadata": {},
     "output_type": "execute_result"
    }
   ],
   "source": [
    "Users_df.Country.unique()"
   ]
  },
  {
   "cell_type": "code",
   "execution_count": 24,
   "id": "3fe8eb01",
   "metadata": {},
   "outputs": [],
   "source": [
    "# Country null값은 other로 변경\n",
    "Users_df.loc[Users_df.Country.isnull(), 'Country'] = 'other'"
   ]
  },
  {
   "cell_type": "code",
   "execution_count": 25,
   "id": "466a86b6",
   "metadata": {},
   "outputs": [],
   "source": [
    "Users_df['Country'].replace(['','alachua','america','austria','autralia','cananda','geermany','italia','united kindgonm','united sates','united staes','united state','united states','us'],\n",
    "                           ['other','usa','usa','australia','australia','canada','germany','italy','united kingdom','usa','usa','usa','usa','usa'],inplace=True)"
   ]
  },
  {
   "cell_type": "code",
   "execution_count": 26,
   "id": "c0631502",
   "metadata": {},
   "outputs": [
    {
     "data": {
      "text/html": [
       "<style  type=\"text/css\" >\n",
       "#T_0073a_row0_col0{\n",
       "            background-color:  #008000;\n",
       "            color:  #f1f1f1;\n",
       "        }#T_0073a_row1_col0{\n",
       "            background-color:  #cbe4cb;\n",
       "            color:  #000000;\n",
       "        }#T_0073a_row2_col0{\n",
       "            background-color:  #d1e6d1;\n",
       "            color:  #000000;\n",
       "        }#T_0073a_row3_col0{\n",
       "            background-color:  #d4e8d4;\n",
       "            color:  #000000;\n",
       "        }#T_0073a_row4_col0{\n",
       "            background-color:  #daebda;\n",
       "            color:  #000000;\n",
       "        }#T_0073a_row5_col0{\n",
       "            background-color:  #dbebdb;\n",
       "            color:  #000000;\n",
       "        }#T_0073a_row6_col0{\n",
       "            background-color:  #deedde;\n",
       "            color:  #000000;\n",
       "        }#T_0073a_row7_col0{\n",
       "            background-color:  #e9f2e9;\n",
       "            color:  #000000;\n",
       "        }#T_0073a_row8_col0,#T_0073a_row9_col0{\n",
       "            background-color:  #ebf3eb;\n",
       "            color:  #000000;\n",
       "        }</style><table id=\"T_0073a_\" ><thead>    <tr>        <th class=\"blank level0\" ></th>        <th class=\"col_heading level0 col0\" >Count_Users_Country</th>    </tr></thead><tbody>\n",
       "                <tr>\n",
       "                        <th id=\"T_0073a_level0_row0\" class=\"row_heading level0 row0\" >usa</th>\n",
       "                        <td id=\"T_0073a_row0_col0\" class=\"data row0 col0\" >139735</td>\n",
       "            </tr>\n",
       "            <tr>\n",
       "                        <th id=\"T_0073a_level0_row1\" class=\"row_heading level0 row1\" >canada</th>\n",
       "                        <td id=\"T_0073a_row1_col0\" class=\"data row1 col0\" >21659</td>\n",
       "            </tr>\n",
       "            <tr>\n",
       "                        <th id=\"T_0073a_level0_row2\" class=\"row_heading level0 row2\" >united kingdom</th>\n",
       "                        <td id=\"T_0073a_row2_col0\" class=\"data row2 col0\" >18557</td>\n",
       "            </tr>\n",
       "            <tr>\n",
       "                        <th id=\"T_0073a_level0_row3\" class=\"row_heading level0 row3\" >germany</th>\n",
       "                        <td id=\"T_0073a_row3_col0\" class=\"data row3 col0\" >17074</td>\n",
       "            </tr>\n",
       "            <tr>\n",
       "                        <th id=\"T_0073a_level0_row4\" class=\"row_heading level0 row4\" >spain</th>\n",
       "                        <td id=\"T_0073a_row4_col0\" class=\"data row4 col0\" >13257</td>\n",
       "            </tr>\n",
       "            <tr>\n",
       "                        <th id=\"T_0073a_level0_row5\" class=\"row_heading level0 row5\" >australia</th>\n",
       "                        <td id=\"T_0073a_row5_col0\" class=\"data row5 col0\" >12935</td>\n",
       "            </tr>\n",
       "            <tr>\n",
       "                        <th id=\"T_0073a_level0_row6\" class=\"row_heading level0 row6\" >italy</th>\n",
       "                        <td id=\"T_0073a_row6_col0\" class=\"data row6 col0\" >11282</td>\n",
       "            </tr>\n",
       "            <tr>\n",
       "                        <th id=\"T_0073a_level0_row7\" class=\"row_heading level0 row7\" >other</th>\n",
       "                        <td id=\"T_0073a_row7_col0\" class=\"data row7 col0\" >4950</td>\n",
       "            </tr>\n",
       "            <tr>\n",
       "                        <th id=\"T_0073a_level0_row8\" class=\"row_heading level0 row8\" >france</th>\n",
       "                        <td id=\"T_0073a_row8_col0\" class=\"data row8 col0\" >3487</td>\n",
       "            </tr>\n",
       "            <tr>\n",
       "                        <th id=\"T_0073a_level0_row9\" class=\"row_heading level0 row9\" >portugal</th>\n",
       "                        <td id=\"T_0073a_row9_col0\" class=\"data row9 col0\" >3390</td>\n",
       "            </tr>\n",
       "    </tbody></table>"
      ],
      "text/plain": [
       "<pandas.io.formats.style.Styler at 0x142ecb33550>"
      ]
     },
     "execution_count": 26,
     "metadata": {},
     "output_type": "execute_result"
    }
   ],
   "source": [
    "# 나라별 유저\n",
    "\n",
    "popular = Users_df.Country.value_counts().to_frame()[:10]\n",
    "popular.rename(columns={'Country':'Count_Users_Country'}, inplace = True)\n",
    "\n",
    "cm = sns.light_palette('green', as_cmap=True)\n",
    "popular.style.background_gradient(cmap=cm)"
   ]
  },
  {
   "cell_type": "markdown",
   "id": "1e16cdd9",
   "metadata": {},
   "source": [
    "### 불필요 컬럼 제거 / 데이터 조정"
   ]
  },
  {
   "cell_type": "code",
   "execution_count": 27,
   "id": "6f200107",
   "metadata": {},
   "outputs": [],
   "source": [
    "def Books_del(df):\n",
    "    df.drop(['Year-Of-Publication','Publisher','Image-URL-S','Image-URL-M','Image-URL-L'],axis=1,inplace=True)\n",
    "    return print(df.shape)\n",
    "\n",
    "def Users_del(df):\n",
    "    df.drop(['Location'],axis=1,inplace=True)\n",
    "    idx = df[df.Age.isnull()].index\n",
    "    df.drop(idx, inplace=True)\n",
    "    return print(df.shape)\n"
   ]
  },
  {
   "cell_type": "code",
   "execution_count": 28,
   "id": "fd27e91e",
   "metadata": {
    "scrolled": true
   },
   "outputs": [
    {
     "name": "stdout",
     "output_type": "stream",
     "text": [
      "(271360, 3)\n",
      "(166848, 3)\n"
     ]
    }
   ],
   "source": [
    "Books_del(Books_df)\n",
    "Users_del(Users_df)"
   ]
  },
  {
   "cell_type": "code",
   "execution_count": 29,
   "id": "6924c394",
   "metadata": {
    "scrolled": true
   },
   "outputs": [
    {
     "data": {
      "text/html": [
       "<div>\n",
       "<style scoped>\n",
       "    .dataframe tbody tr th:only-of-type {\n",
       "        vertical-align: middle;\n",
       "    }\n",
       "\n",
       "    .dataframe tbody tr th {\n",
       "        vertical-align: top;\n",
       "    }\n",
       "\n",
       "    .dataframe thead th {\n",
       "        text-align: right;\n",
       "    }\n",
       "</style>\n",
       "<table border=\"1\" class=\"dataframe\">\n",
       "  <thead>\n",
       "    <tr style=\"text-align: right;\">\n",
       "      <th></th>\n",
       "      <th>User-ID</th>\n",
       "      <th>ISBN</th>\n",
       "      <th>Book-Rating</th>\n",
       "    </tr>\n",
       "  </thead>\n",
       "  <tbody>\n",
       "    <tr>\n",
       "      <th>0</th>\n",
       "      <td>276725</td>\n",
       "      <td>034545104X</td>\n",
       "      <td>0</td>\n",
       "    </tr>\n",
       "    <tr>\n",
       "      <th>2</th>\n",
       "      <td>276727</td>\n",
       "      <td>0446520802</td>\n",
       "      <td>0</td>\n",
       "    </tr>\n",
       "    <tr>\n",
       "      <th>5</th>\n",
       "      <td>276733</td>\n",
       "      <td>2080674722</td>\n",
       "      <td>0</td>\n",
       "    </tr>\n",
       "    <tr>\n",
       "      <th>10</th>\n",
       "      <td>276746</td>\n",
       "      <td>0425115801</td>\n",
       "      <td>0</td>\n",
       "    </tr>\n",
       "    <tr>\n",
       "      <th>11</th>\n",
       "      <td>276746</td>\n",
       "      <td>0449006522</td>\n",
       "      <td>0</td>\n",
       "    </tr>\n",
       "    <tr>\n",
       "      <th>...</th>\n",
       "      <td>...</td>\n",
       "      <td>...</td>\n",
       "      <td>...</td>\n",
       "    </tr>\n",
       "    <tr>\n",
       "      <th>1149769</th>\n",
       "      <td>276704</td>\n",
       "      <td>059032120X</td>\n",
       "      <td>0</td>\n",
       "    </tr>\n",
       "    <tr>\n",
       "      <th>1149770</th>\n",
       "      <td>276704</td>\n",
       "      <td>0679752714</td>\n",
       "      <td>0</td>\n",
       "    </tr>\n",
       "    <tr>\n",
       "      <th>1149772</th>\n",
       "      <td>276704</td>\n",
       "      <td>080410526X</td>\n",
       "      <td>0</td>\n",
       "    </tr>\n",
       "    <tr>\n",
       "      <th>1149774</th>\n",
       "      <td>276704</td>\n",
       "      <td>0876044011</td>\n",
       "      <td>0</td>\n",
       "    </tr>\n",
       "    <tr>\n",
       "      <th>1149776</th>\n",
       "      <td>276706</td>\n",
       "      <td>0679447156</td>\n",
       "      <td>0</td>\n",
       "    </tr>\n",
       "  </tbody>\n",
       "</table>\n",
       "<p>716109 rows × 3 columns</p>\n",
       "</div>"
      ],
      "text/plain": [
       "         User-ID        ISBN  Book-Rating\n",
       "0         276725  034545104X            0\n",
       "2         276727  0446520802            0\n",
       "5         276733  2080674722            0\n",
       "10        276746  0425115801            0\n",
       "11        276746  0449006522            0\n",
       "...          ...         ...          ...\n",
       "1149769   276704  059032120X            0\n",
       "1149770   276704  0679752714            0\n",
       "1149772   276704  080410526X            0\n",
       "1149774   276704  0876044011            0\n",
       "1149776   276706  0679447156            0\n",
       "\n",
       "[716109 rows x 3 columns]"
      ]
     },
     "execution_count": 29,
     "metadata": {},
     "output_type": "execute_result"
    }
   ],
   "source": [
    "Ratings_zero = Ratings_df[Ratings_df['Book-Rating']==0]\n",
    "Ratings_zero"
   ]
  },
  {
   "cell_type": "code",
   "execution_count": 30,
   "id": "303f9347",
   "metadata": {},
   "outputs": [
    {
     "data": {
      "text/html": [
       "<div>\n",
       "<style scoped>\n",
       "    .dataframe tbody tr th:only-of-type {\n",
       "        vertical-align: middle;\n",
       "    }\n",
       "\n",
       "    .dataframe tbody tr th {\n",
       "        vertical-align: top;\n",
       "    }\n",
       "\n",
       "    .dataframe thead th {\n",
       "        text-align: right;\n",
       "    }\n",
       "</style>\n",
       "<table border=\"1\" class=\"dataframe\">\n",
       "  <thead>\n",
       "    <tr style=\"text-align: right;\">\n",
       "      <th></th>\n",
       "      <th>ISBN</th>\n",
       "      <th>User-ID</th>\n",
       "      <th>Book-Rating</th>\n",
       "    </tr>\n",
       "  </thead>\n",
       "  <tbody>\n",
       "    <tr>\n",
       "      <th>189293</th>\n",
       "      <td>0971880107</td>\n",
       "      <td>1921</td>\n",
       "      <td>1921</td>\n",
       "    </tr>\n",
       "    <tr>\n",
       "      <th>35095</th>\n",
       "      <td>0316666343</td>\n",
       "      <td>588</td>\n",
       "      <td>588</td>\n",
       "    </tr>\n",
       "    <tr>\n",
       "      <th>7124</th>\n",
       "      <td>0060928336</td>\n",
       "      <td>412</td>\n",
       "      <td>412</td>\n",
       "    </tr>\n",
       "    <tr>\n",
       "      <th>65636</th>\n",
       "      <td>0385504209</td>\n",
       "      <td>396</td>\n",
       "      <td>396</td>\n",
       "    </tr>\n",
       "    <tr>\n",
       "      <th>80145</th>\n",
       "      <td>044023722X</td>\n",
       "      <td>366</td>\n",
       "      <td>366</td>\n",
       "    </tr>\n",
       "    <tr>\n",
       "      <th>...</th>\n",
       "      <td>...</td>\n",
       "      <td>...</td>\n",
       "      <td>...</td>\n",
       "    </tr>\n",
       "    <tr>\n",
       "      <th>111767</th>\n",
       "      <td>0571114075</td>\n",
       "      <td>1</td>\n",
       "      <td>1</td>\n",
       "    </tr>\n",
       "    <tr>\n",
       "      <th>111768</th>\n",
       "      <td>0571114776</td>\n",
       "      <td>1</td>\n",
       "      <td>1</td>\n",
       "    </tr>\n",
       "    <tr>\n",
       "      <th>111769</th>\n",
       "      <td>0571117279</td>\n",
       "      <td>1</td>\n",
       "      <td>1</td>\n",
       "    </tr>\n",
       "    <tr>\n",
       "      <th>111770</th>\n",
       "      <td>0571117414</td>\n",
       "      <td>1</td>\n",
       "      <td>1</td>\n",
       "    </tr>\n",
       "    <tr>\n",
       "      <th>246723</th>\n",
       "      <td>짠423350229</td>\n",
       "      <td>1</td>\n",
       "      <td>1</td>\n",
       "    </tr>\n",
       "  </tbody>\n",
       "</table>\n",
       "<p>246724 rows × 3 columns</p>\n",
       "</div>"
      ],
      "text/plain": [
       "              ISBN  User-ID  Book-Rating\n",
       "189293  0971880107     1921         1921\n",
       "35095   0316666343      588          588\n",
       "7124    0060928336      412          412\n",
       "65636   0385504209      396          396\n",
       "80145   044023722X      366          366\n",
       "...            ...      ...          ...\n",
       "111767  0571114075        1            1\n",
       "111768  0571114776        1            1\n",
       "111769  0571117279        1            1\n",
       "111770  0571117414        1            1\n",
       "246723  짠423350229        1            1\n",
       "\n",
       "[246724 rows x 3 columns]"
      ]
     },
     "execution_count": 30,
     "metadata": {},
     "output_type": "execute_result"
    }
   ],
   "source": [
    "Ratings_zero1 = Ratings_zero.groupby(['ISBN']).count().reset_index()\n",
    "Ratings_zero1.sort_values('Book-Rating',ascending=False,inplace=True)\n",
    "Ratings_zero1"
   ]
  },
  {
   "cell_type": "code",
   "execution_count": 31,
   "id": "891e269b",
   "metadata": {},
   "outputs": [
    {
     "data": {
      "text/html": [
       "<div>\n",
       "<style scoped>\n",
       "    .dataframe tbody tr th:only-of-type {\n",
       "        vertical-align: middle;\n",
       "    }\n",
       "\n",
       "    .dataframe tbody tr th {\n",
       "        vertical-align: top;\n",
       "    }\n",
       "\n",
       "    .dataframe thead th {\n",
       "        text-align: right;\n",
       "    }\n",
       "</style>\n",
       "<table border=\"1\" class=\"dataframe\">\n",
       "  <thead>\n",
       "    <tr style=\"text-align: right;\">\n",
       "      <th></th>\n",
       "      <th>User-ID</th>\n",
       "      <th>ISBN</th>\n",
       "      <th>Book-Rating</th>\n",
       "    </tr>\n",
       "  </thead>\n",
       "  <tbody>\n",
       "    <tr>\n",
       "      <th>457</th>\n",
       "      <td>276925</td>\n",
       "      <td>0971880107</td>\n",
       "      <td>0</td>\n",
       "    </tr>\n",
       "    <tr>\n",
       "      <th>625</th>\n",
       "      <td>276939</td>\n",
       "      <td>0971880107</td>\n",
       "      <td>0</td>\n",
       "    </tr>\n",
       "    <tr>\n",
       "      <th>650</th>\n",
       "      <td>276954</td>\n",
       "      <td>0971880107</td>\n",
       "      <td>0</td>\n",
       "    </tr>\n",
       "    <tr>\n",
       "      <th>812</th>\n",
       "      <td>277042</td>\n",
       "      <td>0971880107</td>\n",
       "      <td>2</td>\n",
       "    </tr>\n",
       "    <tr>\n",
       "      <th>965</th>\n",
       "      <td>277157</td>\n",
       "      <td>0971880107</td>\n",
       "      <td>0</td>\n",
       "    </tr>\n",
       "    <tr>\n",
       "      <th>...</th>\n",
       "      <td>...</td>\n",
       "      <td>...</td>\n",
       "      <td>...</td>\n",
       "    </tr>\n",
       "    <tr>\n",
       "      <th>1145922</th>\n",
       "      <td>275793</td>\n",
       "      <td>0971880107</td>\n",
       "      <td>0</td>\n",
       "    </tr>\n",
       "    <tr>\n",
       "      <th>1148069</th>\n",
       "      <td>276113</td>\n",
       "      <td>0971880107</td>\n",
       "      <td>7</td>\n",
       "    </tr>\n",
       "    <tr>\n",
       "      <th>1148097</th>\n",
       "      <td>276147</td>\n",
       "      <td>0971880107</td>\n",
       "      <td>0</td>\n",
       "    </tr>\n",
       "    <tr>\n",
       "      <th>1148806</th>\n",
       "      <td>276487</td>\n",
       "      <td>0971880107</td>\n",
       "      <td>0</td>\n",
       "    </tr>\n",
       "    <tr>\n",
       "      <th>1149298</th>\n",
       "      <td>276641</td>\n",
       "      <td>0971880107</td>\n",
       "      <td>0</td>\n",
       "    </tr>\n",
       "  </tbody>\n",
       "</table>\n",
       "<p>2502 rows × 3 columns</p>\n",
       "</div>"
      ],
      "text/plain": [
       "         User-ID        ISBN  Book-Rating\n",
       "457       276925  0971880107            0\n",
       "625       276939  0971880107            0\n",
       "650       276954  0971880107            0\n",
       "812       277042  0971880107            2\n",
       "965       277157  0971880107            0\n",
       "...          ...         ...          ...\n",
       "1145922   275793  0971880107            0\n",
       "1148069   276113  0971880107            7\n",
       "1148097   276147  0971880107            0\n",
       "1148806   276487  0971880107            0\n",
       "1149298   276641  0971880107            0\n",
       "\n",
       "[2502 rows x 3 columns]"
      ]
     },
     "execution_count": 31,
     "metadata": {},
     "output_type": "execute_result"
    }
   ],
   "source": [
    "Ratings_df[Ratings_df.ISBN=='0971880107']"
   ]
  },
  {
   "cell_type": "code",
   "execution_count": 32,
   "id": "f31edc70",
   "metadata": {},
   "outputs": [],
   "source": [
    "# 평점 0점으로 되어있는 Ratings_df 데이터 삭제\n",
    "Ratings_df = Ratings_df[Ratings_df['Book-Rating']>0]"
   ]
  },
  {
   "cell_type": "code",
   "execution_count": 33,
   "id": "38c180da",
   "metadata": {
    "scrolled": false
   },
   "outputs": [
    {
     "name": "stdout",
     "output_type": "stream",
     "text": [
      "Ratings_df에서 User-ID의 unique값: 77805\n",
      "Ratings_df에서 ISBN의 unique값: 185973\n",
      "Users_df에서 User-ID의 unique값: 166848\n",
      "Books_df에서 ISBN의 unique값: 271360\n",
      "Users_df['User-ID'] - Ratings_df['User-ID'] = 89043\n",
      "Books_df['ISBN'] - Ratings_df['ISBN'] = 85387\n"
     ]
    }
   ],
   "source": [
    "print('Ratings_df에서 User-ID의 unique값:',len(Ratings_df['User-ID'].unique()))\n",
    "print('Ratings_df에서 ISBN의 unique값:',len(Ratings_df['ISBN'].unique()))\n",
    "print('Users_df에서 User-ID의 unique값:',len(Users_df['User-ID'].unique()))\n",
    "print('Books_df에서 ISBN의 unique값:',len(Books_df['ISBN'].unique()))\n",
    "print(\"Users_df['User-ID'] - Ratings_df['User-ID'] =\",len(Users_df['User-ID'].unique())-len(Ratings_df['User-ID'].unique()))\n",
    "print(\"Books_df['ISBN'] - Ratings_df['ISBN'] =\",len(Books_df['ISBN'].unique())-len(Ratings_df['ISBN'].unique()))"
   ]
  },
  {
   "cell_type": "code",
   "execution_count": 34,
   "id": "4f4c566f",
   "metadata": {},
   "outputs": [],
   "source": [
    "# User - Rating - Item의 정보를 맞춰야한다.\n",
    "# User와 Rating은 User-ID로 연결되어 있고\n",
    "# Item과 Rating은 ISBN으로 연결되어 있다.\n",
    "# 따라서 Rating_df을 기준으로 User_df과 Books_df를 조정한다."
   ]
  },
  {
   "cell_type": "code",
   "execution_count": 35,
   "id": "a75f3f77",
   "metadata": {},
   "outputs": [],
   "source": [
    "# Ratings_df에서 삭제된 유저 필터링\n",
    "Ratings_df = Ratings_df[Ratings_df['User-ID'].isin(Users_df['User-ID'])]\n",
    "\n",
    "# 평점이 있지만 책의 정보가 없는 평점정보는 삭제\n",
    "Ratings_df = Ratings_df[Ratings_df['ISBN'].isin(Books_df['ISBN'])]\n",
    "\n",
    "# 평점을 부여하지 않은 유저는 삭제\n",
    "Users_df = Users_df[Users_df['User-ID'].isin(Ratings_df['User-ID'])]\n",
    "\n",
    "# 평점을 부여받지 않은 책은 삭제\n",
    "Books_df = Books_df[Books_df['ISBN'].isin(Ratings_df['ISBN'])]"
   ]
  },
  {
   "cell_type": "code",
   "execution_count": 36,
   "id": "7cb648b3",
   "metadata": {},
   "outputs": [
    {
     "name": "stdout",
     "output_type": "stream",
     "text": [
      "17955\n",
      "33444\n",
      "33444\n",
      "17955\n"
     ]
    }
   ],
   "source": [
    "print(len(Users_df['User-ID'].unique()))\n",
    "print(len(Books_df['ISBN'].unique()))\n",
    "print(len(Ratings_df['ISBN'].unique()))\n",
    "print(len(Ratings_df['User-ID'].unique()))"
   ]
  },
  {
   "cell_type": "code",
   "execution_count": 37,
   "id": "bbf7475c",
   "metadata": {},
   "outputs": [
    {
     "data": {
      "text/html": [
       "<div>\n",
       "<style scoped>\n",
       "    .dataframe tbody tr th:only-of-type {\n",
       "        vertical-align: middle;\n",
       "    }\n",
       "\n",
       "    .dataframe tbody tr th {\n",
       "        vertical-align: top;\n",
       "    }\n",
       "\n",
       "    .dataframe thead th {\n",
       "        text-align: right;\n",
       "    }\n",
       "</style>\n",
       "<table border=\"1\" class=\"dataframe\">\n",
       "  <thead>\n",
       "    <tr style=\"text-align: right;\">\n",
       "      <th></th>\n",
       "      <th>User-ID</th>\n",
       "      <th>ISBN</th>\n",
       "      <th>Book-Rating</th>\n",
       "    </tr>\n",
       "  </thead>\n",
       "  <tbody>\n",
       "    <tr>\n",
       "      <th>3</th>\n",
       "      <td>276729</td>\n",
       "      <td>052165615X</td>\n",
       "      <td>3</td>\n",
       "    </tr>\n",
       "    <tr>\n",
       "      <th>23</th>\n",
       "      <td>276747</td>\n",
       "      <td>1885408226</td>\n",
       "      <td>7</td>\n",
       "    </tr>\n",
       "    <tr>\n",
       "      <th>44</th>\n",
       "      <td>276762</td>\n",
       "      <td>3453092007</td>\n",
       "      <td>8</td>\n",
       "    </tr>\n",
       "    <tr>\n",
       "      <th>66</th>\n",
       "      <td>276774</td>\n",
       "      <td>3442136644</td>\n",
       "      <td>9</td>\n",
       "    </tr>\n",
       "    <tr>\n",
       "      <th>77</th>\n",
       "      <td>276786</td>\n",
       "      <td>8437606322</td>\n",
       "      <td>8</td>\n",
       "    </tr>\n",
       "  </tbody>\n",
       "</table>\n",
       "</div>"
      ],
      "text/plain": [
       "    User-ID        ISBN  Book-Rating\n",
       "3    276729  052165615X            3\n",
       "23   276747  1885408226            7\n",
       "44   276762  3453092007            8\n",
       "66   276774  3442136644            9\n",
       "77   276786  8437606322            8"
      ]
     },
     "execution_count": 37,
     "metadata": {},
     "output_type": "execute_result"
    }
   ],
   "source": [
    "Ratings_df.head()"
   ]
  },
  {
   "cell_type": "code",
   "execution_count": 38,
   "id": "79a1e5fd",
   "metadata": {
    "scrolled": true
   },
   "outputs": [
    {
     "name": "stdout",
     "output_type": "stream",
     "text": [
      "Books_df : (33444, 3)\n",
      "Ratings_df : (59169, 3)\n",
      "Users_df : (17955, 3)\n",
      "\n"
     ]
    }
   ],
   "source": [
    "# 데이터셋 shape\n",
    "\n",
    "print(f'''Books_df : {Books_df.shape}\n",
    "Ratings_df : {Ratings_df.shape}\n",
    "Users_df : {Users_df.shape}\n",
    "''')"
   ]
  },
  {
   "cell_type": "code",
   "execution_count": 39,
   "id": "04bd1721",
   "metadata": {},
   "outputs": [],
   "source": [
    "#Books_df.to_csv('Books4.csv')\n",
    "#Ratings_df.to_csv('Ratings4.csv')\n",
    "#Users_df.to_csv('Users4.csv')"
   ]
  }
 ],
 "metadata": {
  "kernelspec": {
   "display_name": "Python 3",
   "language": "python",
   "name": "python3"
  },
  "language_info": {
   "codemirror_mode": {
    "name": "ipython",
    "version": 3
   },
   "file_extension": ".py",
   "mimetype": "text/x-python",
   "name": "python",
   "nbconvert_exporter": "python",
   "pygments_lexer": "ipython3",
   "version": "3.8.8"
  }
 },
 "nbformat": 4,
 "nbformat_minor": 5
}
